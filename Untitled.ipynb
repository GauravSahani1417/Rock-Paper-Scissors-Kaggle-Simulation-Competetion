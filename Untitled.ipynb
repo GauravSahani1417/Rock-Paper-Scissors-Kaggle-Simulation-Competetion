{
 "cells": [
  {
   "cell_type": "code",
   "execution_count": 1,
   "metadata": {},
   "outputs": [
    {
     "name": "stdout",
     "output_type": "stream",
     "text": [
      "Requirement already satisfied: kaggle-environments in d:\\anaconda\\lib\\site-packages (1.7.3)\n",
      "Requirement already satisfied: jsonschema>=3.0.1 in d:\\anaconda\\lib\\site-packages (from kaggle-environments) (3.2.0)\n",
      "Requirement already satisfied: pyrsistent>=0.14.0 in d:\\anaconda\\lib\\site-packages (from jsonschema>=3.0.1->kaggle-environments) (0.15.7)\n",
      "Requirement already satisfied: six>=1.11.0 in d:\\anaconda\\lib\\site-packages (from jsonschema>=3.0.1->kaggle-environments) (1.14.0)\n",
      "Requirement already satisfied: importlib-metadata; python_version < \"3.8\" in d:\\anaconda\\lib\\site-packages (from jsonschema>=3.0.1->kaggle-environments) (1.5.0)\n",
      "Requirement already satisfied: attrs>=17.4.0 in d:\\anaconda\\lib\\site-packages (from jsonschema>=3.0.1->kaggle-environments) (19.3.0)\n",
      "Requirement already satisfied: setuptools in d:\\anaconda\\lib\\site-packages (from jsonschema>=3.0.1->kaggle-environments) (45.2.0.post20200210)\n",
      "Requirement already satisfied: zipp>=0.5 in d:\\anaconda\\lib\\site-packages (from importlib-metadata; python_version < \"3.8\"->jsonschema>=3.0.1->kaggle-environments) (2.2.0)\n",
      "Note: you may need to restart the kernel to use updated packages.\n"
     ]
    }
   ],
   "source": [
    "pip install kaggle-environments"
   ]
  },
  {
   "cell_type": "code",
   "execution_count": 3,
   "metadata": {},
   "outputs": [
    {
     "name": "stdout",
     "output_type": "stream",
     "text": [
      "Writing Shilpa_Bot_Danger.py\n"
     ]
    }
   ],
   "source": [
    "%%writefile Shilpa_Bot_Danger.py\n",
    "\n",
    "import random\n",
    "\n",
    "moves = [0, 1, 2]\n",
    "dna_encode = {\n",
    "    '11': '1', '10': '2', '12': '3',\n",
    "    '01': '4', '02': '5', '00': '6',\n",
    "    '22': '7', '21': '8', '20': '9' }\n",
    "\n",
    "def beat_move(x):\n",
    "    return (x + 1) % 3\n",
    "\n",
    "def agent (observation, configuration):\n",
    "    global opp_history, action, dna\n",
    "    if observation.step == 0:\n",
    "        opp_history = ''\n",
    "        dna = ''\n",
    "        action = random.choice([0, 1, 2])\n",
    "    else:\n",
    "        opp_history += str(observation.lastOpponentAction)\n",
    "        dna += dna_encode[str(observation.lastOpponentAction) + str(action)]\n",
    "\n",
    "        for length in (100, 90, 80, 70, 60, 50, 40, 30, 20, 10, 9, 8, 7, 6, 5, 4, 3, 2, 1):\n",
    "            # Search for the last longest chain\n",
    "            x = dna[:-1].rfind (dna[-length:])\n",
    "            if x >= 0:\n",
    "                # If found: Pick what will be the next move and play against it\n",
    "                next_move = opp_history[x + length]\n",
    "                action = beat_move(int(next_move))\n",
    "                break\n",
    "    \n",
    "    return action"
   ]
  },
  {
   "cell_type": "code",
   "execution_count": null,
   "metadata": {},
   "outputs": [],
   "source": []
  }
 ],
 "metadata": {
  "kernelspec": {
   "display_name": "Python 3",
   "language": "python",
   "name": "python3"
  },
  "language_info": {
   "codemirror_mode": {
    "name": "ipython",
    "version": 3
   },
   "file_extension": ".py",
   "mimetype": "text/x-python",
   "name": "python",
   "nbconvert_exporter": "python",
   "pygments_lexer": "ipython3",
   "version": "3.7.6"
  }
 },
 "nbformat": 4,
 "nbformat_minor": 4
}
