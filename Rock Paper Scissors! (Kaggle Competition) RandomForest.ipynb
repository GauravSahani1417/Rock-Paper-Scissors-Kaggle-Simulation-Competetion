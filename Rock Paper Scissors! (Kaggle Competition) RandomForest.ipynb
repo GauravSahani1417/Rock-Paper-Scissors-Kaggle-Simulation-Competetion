{
 "cells": [
  {
   "cell_type": "code",
   "execution_count": 1,
   "metadata": {},
   "outputs": [
    {
     "name": "stdout",
     "output_type": "stream",
     "text": [
      "Requirement already satisfied: kaggle-environments in d:\\anaconda\\lib\\site-packages (1.7.3)\n",
      "Requirement already satisfied: jsonschema>=3.0.1 in d:\\anaconda\\lib\\site-packages (from kaggle-environments) (3.2.0)\n",
      "Requirement already satisfied: attrs>=17.4.0 in d:\\anaconda\\lib\\site-packages (from jsonschema>=3.0.1->kaggle-environments) (19.3.0)\n",
      "Requirement already satisfied: six>=1.11.0 in d:\\anaconda\\lib\\site-packages (from jsonschema>=3.0.1->kaggle-environments) (1.14.0)\n",
      "Requirement already satisfied: pyrsistent>=0.14.0 in d:\\anaconda\\lib\\site-packages (from jsonschema>=3.0.1->kaggle-environments) (0.15.7)\n",
      "Requirement already satisfied: setuptools in d:\\anaconda\\lib\\site-packages (from jsonschema>=3.0.1->kaggle-environments) (45.2.0.post20200210)\n",
      "Requirement already satisfied: importlib-metadata; python_version < \"3.8\" in d:\\anaconda\\lib\\site-packages (from jsonschema>=3.0.1->kaggle-environments) (1.5.0)\n",
      "Requirement already satisfied: zipp>=0.5 in d:\\anaconda\\lib\\site-packages (from importlib-metadata; python_version < \"3.8\"->jsonschema>=3.0.1->kaggle-environments) (2.2.0)\n",
      "Note: you may need to restart the kernel to use updated packages.\n"
     ]
    }
   ],
   "source": [
    "pip install kaggle-environments"
   ]
  },
  {
   "cell_type": "code",
   "execution_count": 3,
   "metadata": {},
   "outputs": [
    {
     "name": "stdout",
     "output_type": "stream",
     "text": [
      "Writing Gaurav_Bot_Powerful.py\n"
     ]
    }
   ],
   "source": [
    "%%writefile Gaurav_Bot_Powerful.py\n",
    "import random\n",
    "import pandas as pd\n",
    "import numpy as np\n",
    "from sklearn.ensemble import RandomForestClassifier\n",
    "\n",
    "actions =  np.empty((0,0), dtype = int)\n",
    "observations =  np.empty((0,0), dtype = int)\n",
    "total_reward = 0\n",
    "\n",
    "def Gaurav_Bot_Powerful(observation, configuration):\n",
    "    global actions, observations, total_reward\n",
    "    \n",
    "    if observation.step == 0:\n",
    "        action = random.randint(0,2)\n",
    "        actions = np.append(actions , [action])\n",
    "        return action\n",
    "    \n",
    "    if observation.step == 1:\n",
    "        action = random.randint(0,2)\n",
    "        actions = np.append(actions , [action])\n",
    "        observations = np.append(observations , [observation.lastOpponentAction])\n",
    "        # Keep track of score\n",
    "        winner = int((3 + actions[-1] - observation.lastOpponentAction) % 3);\n",
    "        if winner == 1:\n",
    "            total_reward = total_reward + 1\n",
    "        elif winner == 2:\n",
    "            total_reward = total_reward - 1        \n",
    "        return action\n",
    "\n",
    "    # Get Observation to make the tables (actions & obervations) even.\n",
    "    observations = np.append(observations , [observation.lastOpponentAction])\n",
    "    # Prepare Data for training\n",
    "    # :-1 as we dont have feedback yet.\n",
    "    X_train = np.vstack((actions[:-1], observations[:-1])).T\n",
    "    \n",
    "    # Create Y by rolling observations to bring future a step earlier \n",
    "    shifted_observations = np.roll(observations, -1)\n",
    "    \n",
    "    # trim rolled & last element from rolled observations\n",
    "    y_train = shifted_observations[:-1].T\n",
    "    \n",
    "    # Set the history period. Long chains here will need a lot of time\n",
    "    if len(X_train) > 25:\n",
    "        random_window_size = 10 + random.randint(0,10)\n",
    "        X_train = X_train[-random_window_size:]\n",
    "        y_train = y_train[-random_window_size:]\n",
    "   \n",
    "    # Train a classifier model\n",
    "    model = RandomForestClassifier(n_estimators=25)\n",
    "    model.fit(X_train, y_train)\n",
    "    # Predict\n",
    "    X_test = np.empty((0,0), dtype = int)\n",
    "    X_test = np.append(X_test, [int(actions[-1]), observation.lastOpponentAction])\n",
    "    prediction = model.predict(X_test.reshape(1, -1))\n",
    "\n",
    "    # Keep track of score\n",
    "    winner = int((3 + actions[-1] - observation.lastOpponentAction) % 3);\n",
    "    if winner == 1:\n",
    "        total_reward = total_reward + 1\n",
    "    elif winner == 2:\n",
    "        total_reward = total_reward - 1\n",
    "    # Prepare action\n",
    "    action = int((prediction + 1) % 3)\n",
    "    \n",
    "    # If losing a bit then change strategy and break the patterns by playing a bit random\n",
    "    if total_reward < -2:\n",
    "        win_tie = random.randint(0,1)\n",
    "        action = int((prediction + win_tie) % 3)\n",
    "\n",
    "    # Update actions\n",
    "    actions = np.append(actions , [action])\n",
    "\n",
    "    # Action \n",
    "    return action "
   ]
  },
  {
   "cell_type": "code",
   "execution_count": null,
   "metadata": {},
   "outputs": [],
   "source": []
  }
 ],
 "metadata": {
  "kernelspec": {
   "display_name": "Python 3",
   "language": "python",
   "name": "python3"
  },
  "language_info": {
   "codemirror_mode": {
    "name": "ipython",
    "version": 3
   },
   "file_extension": ".py",
   "mimetype": "text/x-python",
   "name": "python",
   "nbconvert_exporter": "python",
   "pygments_lexer": "ipython3",
   "version": "3.7.6"
  }
 },
 "nbformat": 4,
 "nbformat_minor": 4
}
