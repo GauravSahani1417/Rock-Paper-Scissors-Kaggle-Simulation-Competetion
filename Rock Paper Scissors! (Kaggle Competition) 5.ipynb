{
 "cells": [
  {
   "cell_type": "code",
   "execution_count": 1,
   "metadata": {},
   "outputs": [
    {
     "name": "stdout",
     "output_type": "stream",
     "text": [
      "Requirement already satisfied: kaggle-environments in d:\\anaconda\\lib\\site-packages (1.7.3)\n",
      "Requirement already satisfied: jsonschema>=3.0.1 in d:\\anaconda\\lib\\site-packages (from kaggle-environments) (3.2.0)\n",
      "Requirement already satisfied: setuptools in d:\\anaconda\\lib\\site-packages (from jsonschema>=3.0.1->kaggle-environments) (45.2.0.post20200210)\n",
      "Requirement already satisfied: six>=1.11.0 in d:\\anaconda\\lib\\site-packages (from jsonschema>=3.0.1->kaggle-environments) (1.14.0)\n",
      "Requirement already satisfied: importlib-metadata; python_version < \"3.8\" in d:\\anaconda\\lib\\site-packages (from jsonschema>=3.0.1->kaggle-environments) (1.5.0)\n",
      "Requirement already satisfied: attrs>=17.4.0 in d:\\anaconda\\lib\\site-packages (from jsonschema>=3.0.1->kaggle-environments) (19.3.0)\n",
      "Requirement already satisfied: pyrsistent>=0.14.0 in d:\\anaconda\\lib\\site-packages (from jsonschema>=3.0.1->kaggle-environments) (0.15.7)\n",
      "Requirement already satisfied: zipp>=0.5 in d:\\anaconda\\lib\\site-packages (from importlib-metadata; python_version < \"3.8\"->jsonschema>=3.0.1->kaggle-environments) (2.2.0)\n",
      "Note: you may need to restart the kernel to use updated packages.\n"
     ]
    }
   ],
   "source": [
    "pip install kaggle-environments"
   ]
  },
  {
   "cell_type": "code",
   "execution_count": 5,
   "metadata": {},
   "outputs": [
    {
     "name": "stdout",
     "output_type": "stream",
     "text": [
      "Writing GRS_A1.py\n"
     ]
    }
   ],
   "source": [
    "%%writefile GRS_A1.py\n",
    "\n",
    "import numpy as np\n",
    "import collections\n",
    "\n",
    "def GRS_A1(observation, configuration):\n",
    "    k = 2\n",
    "    global table, action_seq\n",
    "    if observation.step % 250 == 0: # refresh table every 250 steps\n",
    "        action_seq, table = [], collections.defaultdict(lambda: [1, 1, 1])    \n",
    "    if len(action_seq) <= 2 * k + 1:\n",
    "        action = int(np.random.randint(3))\n",
    "        if observation.step > 0:\n",
    "            action_seq.extend([observation.lastOpponentAction, action])\n",
    "        else:\n",
    "            action_seq.append(action)\n",
    "        return action\n",
    "    # update table\n",
    "    key = ''.join([str(a) for a in action_seq[:-1]])\n",
    "    table[key][observation.lastOpponentAction] += 1\n",
    "    # update action seq\n",
    "    action_seq[:-2] = action_seq[2:]\n",
    "    action_seq[-2] = observation.lastOpponentAction\n",
    "    # predict opponent next move\n",
    "    key = ''.join([str(a) for a in action_seq[:-1]])\n",
    "    if observation.step < 500:\n",
    "        next_opponent_action_pred = np.argmax(table[key])\n",
    "    else:\n",
    "        scores = np.array(table[key])\n",
    "        next_opponent_action_pred = np.random.choice(3, p=scores/scores.sum()) # add stochasticity for second part of the game\n",
    "    # make an action\n",
    "    action = (next_opponent_action_pred + 1) % 3\n",
    "    # if high probability to lose -> let's surprise our opponent with sudden change of our strategy\n",
    "    if observation.step > 900:\n",
    "        action = next_opponent_action_pred\n",
    "    action_seq[-1] = action\n",
    "    return int(action)"
   ]
  },
  {
   "cell_type": "code",
   "execution_count": 6,
   "metadata": {},
   "outputs": [
    {
     "name": "stdout",
     "output_type": "stream",
     "text": [
      "Writing GRS_A2.py\n"
     ]
    }
   ],
   "source": [
    "%%writefile GRS_A2.py\n",
    "\n",
    "import random\n",
    "from kaggle_environments.envs.rps.utils import get_score\n",
    "\n",
    "last_react_action = None\n",
    "\n",
    "\n",
    "def GRS_A2(observation, configuration):\n",
    "    global last_react_action\n",
    "    if observation.step == 0:\n",
    "        last_react_action = random.randrange(0, configuration.signs)\n",
    "    elif get_score(last_react_action, observation.lastOpponentAction) <= 1:\n",
    "        last_react_action = (observation.lastOpponentAction + 1) % configuration.signs\n",
    "\n",
    "    return last_react_action"
   ]
  },
  {
   "cell_type": "code",
   "execution_count": null,
   "metadata": {},
   "outputs": [],
   "source": []
  }
 ],
 "metadata": {
  "kernelspec": {
   "display_name": "Python 3",
   "language": "python",
   "name": "python3"
  },
  "language_info": {
   "codemirror_mode": {
    "name": "ipython",
    "version": 3
   },
   "file_extension": ".py",
   "mimetype": "text/x-python",
   "name": "python",
   "nbconvert_exporter": "python",
   "pygments_lexer": "ipython3",
   "version": "3.7.6"
  }
 },
 "nbformat": 4,
 "nbformat_minor": 4
}
